{
 "cells": [
  {
   "cell_type": "code",
   "execution_count": 1,
   "metadata": {},
   "outputs": [],
   "source": [
    "import numpy as np\n",
    "import pandas as pd\n",
    "import matplotlib.pyplot as plt\n",
    "import sklearn\n",
    "from xgboost.sklearn import XGBClassifier"
   ]
  },
  {
   "cell_type": "code",
   "execution_count": 2,
   "metadata": {},
   "outputs": [
    {
     "data": {
      "text/html": [
       "<div>\n",
       "<style scoped>\n",
       "    .dataframe tbody tr th:only-of-type {\n",
       "        vertical-align: middle;\n",
       "    }\n",
       "\n",
       "    .dataframe tbody tr th {\n",
       "        vertical-align: top;\n",
       "    }\n",
       "\n",
       "    .dataframe thead th {\n",
       "        text-align: right;\n",
       "    }\n",
       "</style>\n",
       "<table border=\"1\" class=\"dataframe\">\n",
       "  <thead>\n",
       "    <tr style=\"text-align: right;\">\n",
       "      <th></th>\n",
       "      <th>age</th>\n",
       "      <th>workclass</th>\n",
       "      <th>fnlwgt</th>\n",
       "      <th>education</th>\n",
       "      <th>education-num</th>\n",
       "      <th>marital-status</th>\n",
       "      <th>occupation</th>\n",
       "      <th>relationship</th>\n",
       "      <th>race</th>\n",
       "      <th>sex</th>\n",
       "      <th>capital-gain</th>\n",
       "      <th>capital-loss</th>\n",
       "      <th>hours-per-week</th>\n",
       "      <th>native-country</th>\n",
       "      <th>wage_class</th>\n",
       "    </tr>\n",
       "  </thead>\n",
       "  <tbody>\n",
       "    <tr>\n",
       "      <th>0</th>\n",
       "      <td>39</td>\n",
       "      <td>State-gov</td>\n",
       "      <td>77516</td>\n",
       "      <td>Bachelors</td>\n",
       "      <td>13</td>\n",
       "      <td>Never-married</td>\n",
       "      <td>Adm-clerical</td>\n",
       "      <td>Not-in-family</td>\n",
       "      <td>White</td>\n",
       "      <td>Male</td>\n",
       "      <td>2174</td>\n",
       "      <td>0</td>\n",
       "      <td>40</td>\n",
       "      <td>United-States</td>\n",
       "      <td>&lt;=50K</td>\n",
       "    </tr>\n",
       "    <tr>\n",
       "      <th>1</th>\n",
       "      <td>50</td>\n",
       "      <td>Self-emp-not-inc</td>\n",
       "      <td>83311</td>\n",
       "      <td>Bachelors</td>\n",
       "      <td>13</td>\n",
       "      <td>Married-civ-spouse</td>\n",
       "      <td>Exec-managerial</td>\n",
       "      <td>Husband</td>\n",
       "      <td>White</td>\n",
       "      <td>Male</td>\n",
       "      <td>0</td>\n",
       "      <td>0</td>\n",
       "      <td>13</td>\n",
       "      <td>United-States</td>\n",
       "      <td>&lt;=50K</td>\n",
       "    </tr>\n",
       "    <tr>\n",
       "      <th>2</th>\n",
       "      <td>38</td>\n",
       "      <td>Private</td>\n",
       "      <td>215646</td>\n",
       "      <td>HS-grad</td>\n",
       "      <td>9</td>\n",
       "      <td>Divorced</td>\n",
       "      <td>Handlers-cleaners</td>\n",
       "      <td>Not-in-family</td>\n",
       "      <td>White</td>\n",
       "      <td>Male</td>\n",
       "      <td>0</td>\n",
       "      <td>0</td>\n",
       "      <td>40</td>\n",
       "      <td>United-States</td>\n",
       "      <td>&lt;=50K</td>\n",
       "    </tr>\n",
       "    <tr>\n",
       "      <th>3</th>\n",
       "      <td>53</td>\n",
       "      <td>Private</td>\n",
       "      <td>234721</td>\n",
       "      <td>11th</td>\n",
       "      <td>7</td>\n",
       "      <td>Married-civ-spouse</td>\n",
       "      <td>Handlers-cleaners</td>\n",
       "      <td>Husband</td>\n",
       "      <td>Black</td>\n",
       "      <td>Male</td>\n",
       "      <td>0</td>\n",
       "      <td>0</td>\n",
       "      <td>40</td>\n",
       "      <td>United-States</td>\n",
       "      <td>&lt;=50K</td>\n",
       "    </tr>\n",
       "    <tr>\n",
       "      <th>4</th>\n",
       "      <td>28</td>\n",
       "      <td>Private</td>\n",
       "      <td>338409</td>\n",
       "      <td>Bachelors</td>\n",
       "      <td>13</td>\n",
       "      <td>Married-civ-spouse</td>\n",
       "      <td>Prof-specialty</td>\n",
       "      <td>Wife</td>\n",
       "      <td>Black</td>\n",
       "      <td>Female</td>\n",
       "      <td>0</td>\n",
       "      <td>0</td>\n",
       "      <td>40</td>\n",
       "      <td>Cuba</td>\n",
       "      <td>&lt;=50K</td>\n",
       "    </tr>\n",
       "  </tbody>\n",
       "</table>\n",
       "</div>"
      ],
      "text/plain": [
       "   age          workclass  fnlwgt   education  education-num  \\\n",
       "0   39          State-gov   77516   Bachelors             13   \n",
       "1   50   Self-emp-not-inc   83311   Bachelors             13   \n",
       "2   38            Private  215646     HS-grad              9   \n",
       "3   53            Private  234721        11th              7   \n",
       "4   28            Private  338409   Bachelors             13   \n",
       "\n",
       "        marital-status          occupation    relationship    race      sex  \\\n",
       "0        Never-married        Adm-clerical   Not-in-family   White     Male   \n",
       "1   Married-civ-spouse     Exec-managerial         Husband   White     Male   \n",
       "2             Divorced   Handlers-cleaners   Not-in-family   White     Male   \n",
       "3   Married-civ-spouse   Handlers-cleaners         Husband   Black     Male   \n",
       "4   Married-civ-spouse      Prof-specialty            Wife   Black   Female   \n",
       "\n",
       "   capital-gain  capital-loss  hours-per-week  native-country wage_class  \n",
       "0          2174             0              40   United-States      <=50K  \n",
       "1             0             0              13   United-States      <=50K  \n",
       "2             0             0              40   United-States      <=50K  \n",
       "3             0             0              40   United-States      <=50K  \n",
       "4             0             0              40            Cuba      <=50K  "
      ]
     },
     "execution_count": 2,
     "metadata": {},
     "output_type": "execute_result"
    }
   ],
   "source": [
    "url='./adult.data'\n",
    "#columns name according to adult.names\n",
    "cols=[\"age\",\"workclass\",\"fnlwgt\",\"education\",\"education-num\",\"marital-status\", \"occupation\", \"relationship\", \"race\", \"sex\", \"capital-gain\", \"capital-loss\", \"hours-per-week\",\"native-country\",\"wage_class\"]\n",
    "\n",
    "train_set=pd.read_csv(url, names=cols)   # reading and setting names\n",
    "\n",
    "train_set.head()"
   ]
  },
  {
   "cell_type": "code",
   "execution_count": 3,
   "metadata": {},
   "outputs": [
    {
     "data": {
      "text/html": [
       "<div>\n",
       "<style scoped>\n",
       "    .dataframe tbody tr th:only-of-type {\n",
       "        vertical-align: middle;\n",
       "    }\n",
       "\n",
       "    .dataframe tbody tr th {\n",
       "        vertical-align: top;\n",
       "    }\n",
       "\n",
       "    .dataframe thead th {\n",
       "        text-align: right;\n",
       "    }\n",
       "</style>\n",
       "<table border=\"1\" class=\"dataframe\">\n",
       "  <thead>\n",
       "    <tr style=\"text-align: right;\">\n",
       "      <th></th>\n",
       "      <th>age</th>\n",
       "      <th>workclass</th>\n",
       "      <th>fnlwgt</th>\n",
       "      <th>education</th>\n",
       "      <th>education-num</th>\n",
       "      <th>marital-status</th>\n",
       "      <th>occupation</th>\n",
       "      <th>relationship</th>\n",
       "      <th>race</th>\n",
       "      <th>sex</th>\n",
       "      <th>capital-gain</th>\n",
       "      <th>capital-loss</th>\n",
       "      <th>hours-per-week</th>\n",
       "      <th>native-country</th>\n",
       "      <th>wage_class</th>\n",
       "    </tr>\n",
       "  </thead>\n",
       "  <tbody>\n",
       "    <tr>\n",
       "      <th>0</th>\n",
       "      <td>25</td>\n",
       "      <td>Private</td>\n",
       "      <td>226802</td>\n",
       "      <td>11th</td>\n",
       "      <td>7</td>\n",
       "      <td>Never-married</td>\n",
       "      <td>Machine-op-inspct</td>\n",
       "      <td>Own-child</td>\n",
       "      <td>Black</td>\n",
       "      <td>Male</td>\n",
       "      <td>0</td>\n",
       "      <td>0</td>\n",
       "      <td>40</td>\n",
       "      <td>United-States</td>\n",
       "      <td>&lt;=50K.</td>\n",
       "    </tr>\n",
       "    <tr>\n",
       "      <th>1</th>\n",
       "      <td>38</td>\n",
       "      <td>Private</td>\n",
       "      <td>89814</td>\n",
       "      <td>HS-grad</td>\n",
       "      <td>9</td>\n",
       "      <td>Married-civ-spouse</td>\n",
       "      <td>Farming-fishing</td>\n",
       "      <td>Husband</td>\n",
       "      <td>White</td>\n",
       "      <td>Male</td>\n",
       "      <td>0</td>\n",
       "      <td>0</td>\n",
       "      <td>50</td>\n",
       "      <td>United-States</td>\n",
       "      <td>&lt;=50K.</td>\n",
       "    </tr>\n",
       "    <tr>\n",
       "      <th>2</th>\n",
       "      <td>28</td>\n",
       "      <td>Local-gov</td>\n",
       "      <td>336951</td>\n",
       "      <td>Assoc-acdm</td>\n",
       "      <td>12</td>\n",
       "      <td>Married-civ-spouse</td>\n",
       "      <td>Protective-serv</td>\n",
       "      <td>Husband</td>\n",
       "      <td>White</td>\n",
       "      <td>Male</td>\n",
       "      <td>0</td>\n",
       "      <td>0</td>\n",
       "      <td>40</td>\n",
       "      <td>United-States</td>\n",
       "      <td>&gt;50K.</td>\n",
       "    </tr>\n",
       "    <tr>\n",
       "      <th>3</th>\n",
       "      <td>44</td>\n",
       "      <td>Private</td>\n",
       "      <td>160323</td>\n",
       "      <td>Some-college</td>\n",
       "      <td>10</td>\n",
       "      <td>Married-civ-spouse</td>\n",
       "      <td>Machine-op-inspct</td>\n",
       "      <td>Husband</td>\n",
       "      <td>Black</td>\n",
       "      <td>Male</td>\n",
       "      <td>7688</td>\n",
       "      <td>0</td>\n",
       "      <td>40</td>\n",
       "      <td>United-States</td>\n",
       "      <td>&gt;50K.</td>\n",
       "    </tr>\n",
       "    <tr>\n",
       "      <th>4</th>\n",
       "      <td>18</td>\n",
       "      <td>?</td>\n",
       "      <td>103497</td>\n",
       "      <td>Some-college</td>\n",
       "      <td>10</td>\n",
       "      <td>Never-married</td>\n",
       "      <td>?</td>\n",
       "      <td>Own-child</td>\n",
       "      <td>White</td>\n",
       "      <td>Female</td>\n",
       "      <td>0</td>\n",
       "      <td>0</td>\n",
       "      <td>30</td>\n",
       "      <td>United-States</td>\n",
       "      <td>&lt;=50K.</td>\n",
       "    </tr>\n",
       "  </tbody>\n",
       "</table>\n",
       "</div>"
      ],
      "text/plain": [
       "   age   workclass  fnlwgt      education  education-num       marital-status  \\\n",
       "0   25     Private  226802           11th              7        Never-married   \n",
       "1   38     Private   89814        HS-grad              9   Married-civ-spouse   \n",
       "2   28   Local-gov  336951     Assoc-acdm             12   Married-civ-spouse   \n",
       "3   44     Private  160323   Some-college             10   Married-civ-spouse   \n",
       "4   18           ?  103497   Some-college             10        Never-married   \n",
       "\n",
       "           occupation relationship    race      sex  capital-gain  \\\n",
       "0   Machine-op-inspct    Own-child   Black     Male             0   \n",
       "1     Farming-fishing      Husband   White     Male             0   \n",
       "2     Protective-serv      Husband   White     Male             0   \n",
       "3   Machine-op-inspct      Husband   Black     Male          7688   \n",
       "4                   ?    Own-child   White   Female             0   \n",
       "\n",
       "   capital-loss  hours-per-week  native-country wage_class  \n",
       "0             0              40   United-States     <=50K.  \n",
       "1             0              50   United-States     <=50K.  \n",
       "2             0              40   United-States      >50K.  \n",
       "3             0              40   United-States      >50K.  \n",
       "4             0              30   United-States     <=50K.  "
      ]
     },
     "execution_count": 3,
     "metadata": {},
     "output_type": "execute_result"
    }
   ],
   "source": [
    "test_set = pd.read_csv('./adult.test',skiprows = 1, header = None, names=cols)   #coz row one is multi index \n",
    "\n",
    "test_set.head()"
   ]
  },
  {
   "cell_type": "markdown",
   "metadata": {},
   "source": [
    "## EDA"
   ]
  },
  {
   "cell_type": "code",
   "execution_count": 4,
   "metadata": {},
   "outputs": [
    {
     "data": {
      "text/plain": [
       "age               0\n",
       "workclass         0\n",
       "fnlwgt            0\n",
       "education         0\n",
       "education-num     0\n",
       "marital-status    0\n",
       "occupation        0\n",
       "relationship      0\n",
       "race              0\n",
       "sex               0\n",
       "capital-gain      0\n",
       "capital-loss      0\n",
       "hours-per-week    0\n",
       "native-country    0\n",
       "wage_class        0\n",
       "dtype: int64"
      ]
     },
     "execution_count": 4,
     "metadata": {},
     "output_type": "execute_result"
    }
   ],
   "source": [
    "train_set.isnull().sum()\n",
    "   # no null values in any frame"
   ]
  },
  {
   "cell_type": "code",
   "execution_count": 5,
   "metadata": {},
   "outputs": [
    {
     "data": {
      "image/png": "[encoded data removed]",
      "text/plain": [
       "<Figure size 720x720 with 6 Axes>"
      ]
     },
     "metadata": {
      "needs_background": "light"
     },
     "output_type": "display_data"
    }
   ],
   "source": [
    "train_set.hist(figsize=(10,10))\n",
    "plt.show()"
   ]
  },
  {
   "cell_type": "code",
   "execution_count": 6,
   "metadata": {
    "scrolled": true
   },
   "outputs": [
    {
     "data": {
      "text/plain": [
       "age                int64\n",
       "workclass         object\n",
       "fnlwgt             int64\n",
       "education         object\n",
       "education-num      int64\n",
       "marital-status    object\n",
       "occupation        object\n",
       "relationship      object\n",
       "race              object\n",
       "sex               object\n",
       "capital-gain       int64\n",
       "capital-loss       int64\n",
       "hours-per-week     int64\n",
       "native-country    object\n",
       "wage_class        object\n",
       "dtype: object"
      ]
     },
     "execution_count": 6,
     "metadata": {},
     "output_type": "execute_result"
    }
   ],
   "source": [
    "train_set.dtypes  \n",
    "#only 6 features(out of 14 are numeric)"
   ]
  },
  {
   "cell_type": "markdown",
   "metadata": {},
   "source": [
    "##### checking uniqe values and count of them in each columns having type as object"
   ]
  },
  {
   "cell_type": "code",
   "execution_count": 7,
   "metadata": {},
   "outputs": [
    {
     "data": {
      "text/plain": [
       " Private             22696\n",
       " Self-emp-not-inc     2541\n",
       " Local-gov            2093\n",
       " ?                    1836\n",
       " State-gov            1298\n",
       " Self-emp-inc         1116\n",
       " Federal-gov           960\n",
       " Without-pay            14\n",
       " Never-worked            7\n",
       "Name: workclass, dtype: int64"
      ]
     },
     "execution_count": 7,
     "metadata": {},
     "output_type": "execute_result"
    }
   ],
   "source": [
    "\n",
    "train_set.workclass.value_counts()\n",
    "#train_set.workclass.unique()       \n",
    "\n",
    "# there is a '?'  need to be handle"
   ]
  },
  {
   "cell_type": "code",
   "execution_count": 8,
   "metadata": {},
   "outputs": [
    {
     "name": "stdout",
     "output_type": "stream",
     "text": [
      "__________ workclass __________\n",
      " Private             22696\n",
      " Self-emp-not-inc     2541\n",
      " Local-gov            2093\n",
      " ?                    1836\n",
      " State-gov            1298\n",
      " Self-emp-inc         1116\n",
      " Federal-gov           960\n",
      " Without-pay            14\n",
      " Never-worked            7\n",
      "Name: workclass, dtype: int64\n",
      "__________ education __________\n",
      " HS-grad         10501\n",
      " Some-college     7291\n",
      " Bachelors        5355\n",
      " Masters          1723\n",
      " Assoc-voc        1382\n",
      " 11th             1175\n",
      " Assoc-acdm       1067\n",
      " 10th              933\n",
      " 7th-8th           646\n",
      " Prof-school       576\n",
      " 9th               514\n",
      " 12th              433\n",
      " Doctorate         413\n",
      " 5th-6th           333\n",
      " 1st-4th           168\n",
      " Preschool          51\n",
      "Name: education, dtype: int64\n",
      "__________ marital-status __________\n",
      " Married-civ-spouse       14976\n",
      " Never-married            10683\n",
      " Divorced                  4443\n",
      " Separated                 1025\n",
      " Widowed                    993\n",
      " Married-spouse-absent      418\n",
      " Married-AF-spouse           23\n",
      "Name: marital-status, dtype: int64\n",
      "__________ occupation __________\n",
      " Prof-specialty       4140\n",
      " Craft-repair         4099\n",
      " Exec-managerial      4066\n",
      " Adm-clerical         3770\n",
      " Sales                3650\n",
      " Other-service        3295\n",
      " Machine-op-inspct    2002\n",
      " ?                    1843\n",
      " Transport-moving     1597\n",
      " Handlers-cleaners    1370\n",
      " Farming-fishing       994\n",
      " Tech-support          928\n",
      " Protective-serv       649\n",
      " Priv-house-serv       149\n",
      " Armed-Forces            9\n",
      "Name: occupation, dtype: int64\n",
      "__________ relationship __________\n",
      " Husband           13193\n",
      " Not-in-family      8305\n",
      " Own-child          5068\n",
      " Unmarried          3446\n",
      " Wife               1568\n",
      " Other-relative      981\n",
      "Name: relationship, dtype: int64\n",
      "__________ race __________\n",
      " White                 27816\n",
      " Black                  3124\n",
      " Asian-Pac-Islander     1039\n",
      " Amer-Indian-Eskimo      311\n",
      " Other                   271\n",
      "Name: race, dtype: int64\n",
      "__________ sex __________\n",
      " Male      21790\n",
      " Female    10771\n",
      "Name: sex, dtype: int64\n",
      "__________ native-country __________\n",
      " United-States                 29170\n",
      " Mexico                          643\n",
      " ?                               583\n",
      " Philippines                     198\n",
      " Germany                         137\n",
      " Canada                          121\n",
      " Puerto-Rico                     114\n",
      " El-Salvador                     106\n",
      " India                           100\n",
      " Cuba                             95\n",
      " England                          90\n",
      " Jamaica                          81\n",
      " South                            80\n",
      " China                            75\n",
      " Italy                            73\n",
      " Dominican-Republic               70\n",
      " Vietnam                          67\n",
      " Guatemala                        64\n",
      " Japan                            62\n",
      " Poland                           60\n",
      " Columbia                         59\n",
      " Taiwan                           51\n",
      " Haiti                            44\n",
      " Iran                             43\n",
      " Portugal                         37\n",
      " Nicaragua                        34\n",
      " Peru                             31\n",
      " Greece                           29\n",
      " France                           29\n",
      " Ecuador                          28\n",
      " Ireland                          24\n",
      " Hong                             20\n",
      " Trinadad&Tobago                  19\n",
      " Cambodia                         19\n",
      " Thailand                         18\n",
      " Laos                             18\n",
      " Yugoslavia                       16\n",
      " Outlying-US(Guam-USVI-etc)       14\n",
      " Honduras                         13\n",
      " Hungary                          13\n",
      " Scotland                         12\n",
      " Holand-Netherlands                1\n",
      "Name: native-country, dtype: int64\n",
      "__________ wage_class __________\n",
      " <=50K    24720\n",
      " >50K      7841\n",
      "Name: wage_class, dtype: int64\n"
     ]
    }
   ],
   "source": [
    "for feature in cols:\n",
    "    if train_set[feature].dtype == 'object':\n",
    "        \n",
    "        print('_'*10,feature, end=\" \",)\n",
    "        print('_'*10)\n",
    "        print(train_set[feature].value_counts())\n",
    "        "
   ]
  },
  {
   "cell_type": "markdown",
   "metadata": {},
   "source": [
    "**Observation:** features `Native_counrty, Occupation, workclass` having '?' as one value need to be handle"
   ]
  },
  {
   "cell_type": "markdown",
   "metadata": {},
   "source": [
    "get index of the ? in the above mentioned columns"
   ]
  },
  {
   "cell_type": "markdown",
   "metadata": {},
   "source": [
    "#### some features name containing `-` in the name remove or replace with `underscore`"
   ]
  },
  {
   "cell_type": "code",
   "execution_count": 11,
   "metadata": {},
   "outputs": [
    {
     "data": {
      "text/plain": [
       "Index(['age', 'workclass', 'fnlwgt', 'education', 'education_num',\n",
       "       'marital_status', 'occupation', 'relationship', 'race', 'sex',\n",
       "       'capital_gain', 'capital_loss', 'hours_per_week', 'native_country',\n",
       "       'wage_class'],\n",
       "      dtype='object')"
      ]
     },
     "execution_count": 11,
     "metadata": {},
     "output_type": "execute_result"
    }
   ],
   "source": [
    "train_set.columns  "
   ]
  },
  {
   "cell_type": "markdown",
   "metadata": {},
   "source": [
    "##### using regular expression"
   ]
  },
  {
   "cell_type": "code",
   "execution_count": 12,
   "metadata": {},
   "outputs": [],
   "source": [
    "import re\n",
    "train_set.rename(columns=lambda name: re.sub(r\"\\-\",'_',name), inplace=True)  "
   ]
  },
  {
   "cell_type": "code",
   "execution_count": 13,
   "metadata": {},
   "outputs": [
    {
     "data": {
      "text/plain": [
       "583"
      ]
     },
     "execution_count": 13,
     "metadata": {},
     "output_type": "execute_result"
    }
   ],
   "source": [
    "filter1 = train_set[\"workclass\"]==\"?\"\n",
    "#index= train_set.where(filter1).index\n",
    "index = train_set[train_set[\"native_country\"]== ' ?'].index\n",
    "#index.value_counts()  # to display all the indexes having value '?'\n",
    "index.value_counts().sum()  # sum of those indexes \n",
    "# type(index)"
   ]
  },
  {
   "cell_type": "code",
   "execution_count": 14,
   "metadata": {},
   "outputs": [
    {
     "name": "stdout",
     "output_type": "stream",
     "text": [
      "__________ workclass __________\n",
      "Total `?` in workclass: 1836\n",
      "Total % of `?` in workclass: 5.64\n",
      "__________ occupation __________\n",
      "Total `?` in occupation: 1843\n",
      "Total % of `?` in occupation: 5.66\n",
      "__________ native_country __________\n",
      "Total `?` in native_country: 583\n",
      "Total % of `?` in native_country: 1.79\n"
     ]
    }
   ],
   "source": [
    "#now apply the filter for the '?' value in those above 3 columns\n",
    "\n",
    "indexes_list = [] # will contain three index series of desired syntexes\n",
    "def filter_questionMark(l):\n",
    "    \n",
    "    for item in l:\n",
    "        print('_'*10,item, '_'*10)\n",
    "        index = train_set[train_set[item]== ' ?'].index\n",
    "        indexes_list.append(index)\n",
    "        #index.value_counts()  # to display all the indexes having value '?'\n",
    "        print(\"Total `?` in {0}: {1}\".format(item, index.value_counts().sum()))  # sum of those indexes \n",
    "        print(\"Total % of `?` in {0}: {1}\".format(item, round((index.value_counts().sum()/train_set.shape[0])*100,2)))\n",
    "        \n",
    "filter2= ['workclass','occupation', 'native_country']\n",
    "filter_questionMark(filter2)\n"
   ]
  },
  {
   "cell_type": "markdown",
   "metadata": {},
   "source": [
    "**Observation:** Max % of having `?` is 5.66 we can drop and can check how much it is affedting our data"
   ]
  },
  {
   "cell_type": "code",
   "execution_count": 15,
   "metadata": {},
   "outputs": [
    {
     "name": "stdout",
     "output_type": "stream",
     "text": [
      "Original Shape of Train Set: (32561, 15)\n",
      "Rows in Train Set: 32561\n"
     ]
    }
   ],
   "source": [
    "print(\"Original Shape of Train Set:\", train_set.shape)\n",
    "print(\"Rows in Train Set:\", train_set.shape[0])\n"
   ]
  },
  {
   "cell_type": "code",
   "execution_count": 16,
   "metadata": {},
   "outputs": [
    {
     "name": "stdout",
     "output_type": "stream",
     "text": [
      "\n",
      " Drowping `?` indexes from `workclass` featutre....\n",
      "Total New rows: 31978\n"
     ]
    }
   ],
   "source": [
    "print('\\n Drowping `?` indexes from `workclass` featutre....')\n",
    "train_set= train_set.drop(index)\n",
    "print(\"Total New rows:\",train_set.shape[0])\n"
   ]
  },
  {
   "cell_type": "code",
   "execution_count": 17,
   "metadata": {},
   "outputs": [
    {
     "name": "stdout",
     "output_type": "stream",
     "text": [
      "\n",
      " Drowping `?` indexes from `native_country` featutre....\n",
      "Total New rows: 31978\n"
     ]
    }
   ],
   "source": [
    "print('\\n Drowping `?` indexes from `native_country` featutre....')\n",
    "index1= train_set[train_set[\"native_country\"]== ' ?'].index\n",
    "train_set = train_set.drop(index1)\n",
    "print(\"Total New rows:\",train_set.shape[0])\n"
   ]
  },
  {
   "cell_type": "code",
   "execution_count": 18,
   "metadata": {},
   "outputs": [
    {
     "name": "stdout",
     "output_type": "stream",
     "text": [
      "\n",
      " Drowping `?` indexes from `occupation` featutre....\n",
      "Total New rows: 30162\n"
     ]
    }
   ],
   "source": [
    "print('\\n Drowping `?` indexes from `occupation` featutre....')\n",
    "index2 = train_set[train_set[\"occupation\"]== ' ?'].index\n",
    "train_set = train_set.drop(index2)\n",
    "print(\"Total New rows:\",train_set.shape[0])\n"
   ]
  },
  {
   "cell_type": "code",
   "execution_count": 19,
   "metadata": {},
   "outputs": [
    {
     "name": "stdout",
     "output_type": "stream",
     "text": [
      "__________ workclass __________\n",
      "Total `?` in workclass: 0\n",
      "Total % of `?` in workclass: 0.0\n",
      "__________ occupation __________\n",
      "Total `?` in occupation: 0\n",
      "Total % of `?` in occupation: 0.0\n",
      "__________ native_country __________\n",
      "Total `?` in native_country: 0\n",
      "Total % of `?` in native_country: 0.0\n"
     ]
    }
   ],
   "source": [
    "# check for '?' again\n",
    "filter_questionMark(filter2)"
   ]
  },
  {
   "cell_type": "markdown",
   "metadata": {},
   "source": [
    "**Note:** As XGBoost dnt support categorical data we need to use one hot coding tochange all object type features to numeric"
   ]
  },
  {
   "cell_type": "markdown",
   "metadata": {},
   "source": [
    "#### Applying one hot coding to all the categorical variables"
   ]
  },
  {
   "cell_type": "code",
   "execution_count": 20,
   "metadata": {},
   "outputs": [],
   "source": [
    "df1 = train_set.copy()\n",
    "\n",
    "objectFeature = []\n",
    "for i in list(df1.columns):\n",
    "    if (df1[i].dtypes == 'object'):\n",
    "        objectFeature.append(i)\n",
    "        \n",
    "\n",
    "df1=pd.get_dummies(df1[objectFeature[:-1]])\n"
   ]
  },
  {
   "cell_type": "code",
   "execution_count": 21,
   "metadata": {},
   "outputs": [],
   "source": [
    "intFeature = []\n",
    "for i in list(train_set.columns):\n",
    "    if (train_set[i].dtypes == 'int64'):\n",
    "        intFeature.append(i)\n",
    "\n",
    "df2 = train_set[intFeature]"
   ]
  },
  {
   "cell_type": "code",
   "execution_count": 22,
   "metadata": {},
   "outputs": [
    {
     "name": "stdout",
     "output_type": "stream",
     "text": [
      "(30162, 98)\n",
      "(30162, 6)\n"
     ]
    }
   ],
   "source": [
    "print(df1.shape)\n",
    "print(df2.shape)"
   ]
  },
  {
   "cell_type": "markdown",
   "metadata": {},
   "source": [
    "## Concatinating the two frames "
   ]
  },
  {
   "cell_type": "code",
   "execution_count": 23,
   "metadata": {},
   "outputs": [],
   "source": [
    "X_train = pd.concat([df1, df2], axis=1)"
   ]
  },
  {
   "cell_type": "code",
   "execution_count": 24,
   "metadata": {},
   "outputs": [
    {
     "data": {
      "text/plain": [
       "(30162, 104)"
      ]
     },
     "execution_count": 24,
     "metadata": {},
     "output_type": "execute_result"
    }
   ],
   "source": [
    "X_train.shape   # final dataframe to be get Trained "
   ]
  },
  {
   "cell_type": "code",
   "execution_count": 25,
   "metadata": {},
   "outputs": [],
   "source": [
    "y=train_set[objectFeature[-1]]\n"
   ]
  },
  {
   "cell_type": "markdown",
   "metadata": {},
   "source": [
    "### Using LabelEncoder over the target variable"
   ]
  },
  {
   "cell_type": "code",
   "execution_count": 38,
   "metadata": {},
   "outputs": [],
   "source": [
    "from sklearn import preprocessing\n",
    "le = preprocessing.LabelEncoder()\n",
    "# le.fit(y)\n",
    "# le.classes_   # will display only two classes---> array([' <=50K', ' >50K'], dtype=object)y_train\n",
    "y_train=le.fit_transform(y)\n",
    "\n",
    "\n",
    "\n"
   ]
  },
  {
   "cell_type": "code",
   "execution_count": 40,
   "metadata": {},
   "outputs": [
    {
     "data": {
      "text/plain": [
       "array([0, 0, 0, ..., 0, 0, 1], dtype=int64)"
      ]
     },
     "execution_count": 40,
     "metadata": {},
     "output_type": "execute_result"
    }
   ],
   "source": [
    "y_train"
   ]
  },
  {
   "cell_type": "markdown",
   "metadata": {},
   "source": [
    "same process we can apply with the test data to prepare it for test input, secondly we have combined both and performed same operations and later divied again into train and test split\n",
    "\n",
    "\n",
    "i am using same from the training portion to demonstrate model"
   ]
  },
  {
   "cell_type": "markdown",
   "metadata": {},
   "source": [
    "# Applying XGB : the sklearn way"
   ]
  },
  {
   "cell_type": "code",
   "execution_count": 51,
   "metadata": {},
   "outputs": [],
   "source": [
    "from xgboost.sklearn import XGBClassifier\n",
    "from sklearn.model_selection import train_test_split\n",
    "from sklearn.metrics import accuracy_score\n"
   ]
  },
  {
   "cell_type": "code",
   "execution_count": 67,
   "metadata": {},
   "outputs": [],
   "source": [
    "params = {\n",
    "    'objective': 'binary:logistic',\n",
    "    'max_depth': 2,\n",
    "    'learning_rate': .5,\n",
    "    'silent': True,    # would be boolean in sklearn\n",
    "    'n_estimators': 100\n",
    "}"
   ]
  },
  {
   "cell_type": "code",
   "execution_count": 41,
   "metadata": {},
   "outputs": [],
   "source": [
    "x_train, x_test, y_t1, y_t2 =train_test_split(X_train, y_train, test_size=.25)"
   ]
  },
  {
   "cell_type": "code",
   "execution_count": 42,
   "metadata": {},
   "outputs": [
    {
     "data": {
      "text/plain": [
       "((22621, 104), (7541, 104), (22621,), (7541,))"
      ]
     },
     "execution_count": 42,
     "metadata": {},
     "output_type": "execute_result"
    }
   ],
   "source": [
    "x_train.shape, x_test.shape, y_t1.shape, y_t2.shape"
   ]
  },
  {
   "cell_type": "markdown",
   "metadata": {},
   "source": [
    "#### Model Training : making model 1"
   ]
  },
  {
   "cell_type": "code",
   "execution_count": 77,
   "metadata": {},
   "outputs": [],
   "source": [
    "xgb = XGBClassifier(**params).fit(x_train,y_t1)"
   ]
  },
  {
   "cell_type": "code",
   "execution_count": 65,
   "metadata": {},
   "outputs": [
    {
     "name": "stderr",
     "output_type": "stream",
     "text": [
      "C:\\ProgramData\\Anaconda3\\lib\\site-packages\\sklearn\\preprocessing\\label.py:151: DeprecationWarning: The truth value of an empty array is ambiguous. Returning False, but in future this will result in an error. Use `array.size > 0` to check that an array is not empty.\n",
      "  if diff:\n"
     ]
    }
   ],
   "source": [
    "y_pred= xgb.predict(x_test)"
   ]
  },
  {
   "cell_type": "code",
   "execution_count": 68,
   "metadata": {},
   "outputs": [
    {
     "data": {
      "text/plain": [
       "0.8636785572205278"
      ]
     },
     "execution_count": 68,
     "metadata": {},
     "output_type": "execute_result"
    }
   ],
   "source": [
    "accuracy_score(y_t2, y_pred)"
   ]
  },
  {
   "cell_type": "markdown",
   "metadata": {},
   "source": [
    "#### Making model no .2"
   ]
  },
  {
   "cell_type": "code",
   "execution_count": 70,
   "metadata": {},
   "outputs": [
    {
     "name": "stdout",
     "output_type": "stream",
     "text": [
      "[0]\tvalidation_0-error:0.173688\tvalidation_0-logloss:0.505545\tvalidation_1-error:0.182071\tvalidation_1-logloss:0.509117\n",
      "Multiple eval metrics have been passed: 'validation_1-logloss' will be used for early stopping.\n",
      "\n",
      "Will train until validation_1-logloss hasn't improved in 15 rounds.\n",
      "[1]\tvalidation_0-error:0.158083\tvalidation_0-logloss:0.433745\tvalidation_1-error:0.1647\tvalidation_1-logloss:0.438442\n",
      "[2]\tvalidation_0-error:0.161001\tvalidation_0-logloss:0.398842\tvalidation_1-error:0.168413\tvalidation_1-logloss:0.407627\n",
      "[3]\tvalidation_0-error:0.15406\tvalidation_0-logloss:0.375089\tvalidation_1-error:0.162313\tvalidation_1-logloss:0.384389\n",
      "[4]\tvalidation_0-error:0.151143\tvalidation_0-logloss:0.360613\tvalidation_1-error:0.158865\tvalidation_1-logloss:0.370506\n",
      "[5]\tvalidation_0-error:0.151452\tvalidation_0-logloss:0.350334\tvalidation_1-error:0.158732\tvalidation_1-logloss:0.360873\n",
      "[6]\tvalidation_0-error:0.150966\tvalidation_0-logloss:0.342598\tvalidation_1-error:0.156611\tvalidation_1-logloss:0.353448\n",
      "[7]\tvalidation_0-error:0.149684\tvalidation_0-logloss:0.336262\tvalidation_1-error:0.155947\tvalidation_1-logloss:0.347626\n",
      "[8]\tvalidation_0-error:0.148137\tvalidation_0-logloss:0.330904\tvalidation_1-error:0.154356\tvalidation_1-logloss:0.342224\n",
      "[9]\tvalidation_0-error:0.148004\tvalidation_0-logloss:0.326971\tvalidation_1-error:0.153693\tvalidation_1-logloss:0.338018\n",
      "[10]\tvalidation_0-error:0.146678\tvalidation_0-logloss:0.324068\tvalidation_1-error:0.153693\tvalidation_1-logloss:0.3358\n",
      "[11]\tvalidation_0-error:0.146413\tvalidation_0-logloss:0.321582\tvalidation_1-error:0.153295\tvalidation_1-logloss:0.33342\n",
      "[12]\tvalidation_0-error:0.147518\tvalidation_0-logloss:0.319137\tvalidation_1-error:0.155152\tvalidation_1-logloss:0.331703\n",
      "[13]\tvalidation_0-error:0.146059\tvalidation_0-logloss:0.317178\tvalidation_1-error:0.153693\tvalidation_1-logloss:0.329847\n",
      "[14]\tvalidation_0-error:0.145131\tvalidation_0-logloss:0.314663\tvalidation_1-error:0.152632\tvalidation_1-logloss:0.327703\n",
      "[15]\tvalidation_0-error:0.144954\tvalidation_0-logloss:0.312915\tvalidation_1-error:0.1525\tvalidation_1-logloss:0.325763\n",
      "[16]\tvalidation_0-error:0.144468\tvalidation_0-logloss:0.311626\tvalidation_1-error:0.152234\tvalidation_1-logloss:0.325136\n",
      "[17]\tvalidation_0-error:0.144247\tvalidation_0-logloss:0.31049\tvalidation_1-error:0.151837\tvalidation_1-logloss:0.324158\n",
      "[18]\tvalidation_0-error:0.143451\tvalidation_0-logloss:0.308158\tvalidation_1-error:0.150378\tvalidation_1-logloss:0.32155\n",
      "[19]\tvalidation_0-error:0.141859\tvalidation_0-logloss:0.305998\tvalidation_1-error:0.149184\tvalidation_1-logloss:0.320203\n",
      "[20]\tvalidation_0-error:0.141152\tvalidation_0-logloss:0.304238\tvalidation_1-error:0.149317\tvalidation_1-logloss:0.318194\n",
      "[21]\tvalidation_0-error:0.140224\tvalidation_0-logloss:0.303032\tvalidation_1-error:0.148124\tvalidation_1-logloss:0.317309\n",
      "[22]\tvalidation_0-error:0.139295\tvalidation_0-logloss:0.302188\tvalidation_1-error:0.147593\tvalidation_1-logloss:0.316468\n",
      "[23]\tvalidation_0-error:0.138765\tvalidation_0-logloss:0.301375\tvalidation_1-error:0.146798\tvalidation_1-logloss:0.315871\n",
      "[24]\tvalidation_0-error:0.138455\tvalidation_0-logloss:0.300633\tvalidation_1-error:0.147858\tvalidation_1-logloss:0.315191\n",
      "[25]\tvalidation_0-error:0.138455\tvalidation_0-logloss:0.299946\tvalidation_1-error:0.147858\tvalidation_1-logloss:0.314368\n",
      "[26]\tvalidation_0-error:0.13766\tvalidation_0-logloss:0.299244\tvalidation_1-error:0.147461\tvalidation_1-logloss:0.313832\n",
      "[27]\tvalidation_0-error:0.137306\tvalidation_0-logloss:0.29836\tvalidation_1-error:0.147593\tvalidation_1-logloss:0.312861\n",
      "[28]\tvalidation_0-error:0.137218\tvalidation_0-logloss:0.297913\tvalidation_1-error:0.147328\tvalidation_1-logloss:0.312456\n",
      "[29]\tvalidation_0-error:0.136776\tvalidation_0-logloss:0.297347\tvalidation_1-error:0.147063\tvalidation_1-logloss:0.312237\n",
      "[30]\tvalidation_0-error:0.136687\tvalidation_0-logloss:0.29659\tvalidation_1-error:0.145604\tvalidation_1-logloss:0.311339\n",
      "[31]\tvalidation_0-error:0.135715\tvalidation_0-logloss:0.295889\tvalidation_1-error:0.145737\tvalidation_1-logloss:0.311282\n",
      "[32]\tvalidation_0-error:0.13598\tvalidation_0-logloss:0.295511\tvalidation_1-error:0.145206\tvalidation_1-logloss:0.311166\n",
      "[33]\tvalidation_0-error:0.135361\tvalidation_0-logloss:0.295134\tvalidation_1-error:0.145339\tvalidation_1-logloss:0.310694\n",
      "[34]\tvalidation_0-error:0.135361\tvalidation_0-logloss:0.294471\tvalidation_1-error:0.145074\tvalidation_1-logloss:0.310098\n",
      "[35]\tvalidation_0-error:0.135273\tvalidation_0-logloss:0.293882\tvalidation_1-error:0.144808\tvalidation_1-logloss:0.309785\n",
      "[36]\tvalidation_0-error:0.135273\tvalidation_0-logloss:0.293525\tvalidation_1-error:0.144941\tvalidation_1-logloss:0.309604\n",
      "[37]\tvalidation_0-error:0.13377\tvalidation_0-logloss:0.291702\tvalidation_1-error:0.144013\tvalidation_1-logloss:0.307739\n",
      "[38]\tvalidation_0-error:0.133637\tvalidation_0-logloss:0.290823\tvalidation_1-error:0.144013\tvalidation_1-logloss:0.307003\n",
      "[39]\tvalidation_0-error:0.132885\tvalidation_0-logloss:0.290458\tvalidation_1-error:0.143084\tvalidation_1-logloss:0.306838\n",
      "[40]\tvalidation_0-error:0.132443\tvalidation_0-logloss:0.290152\tvalidation_1-error:0.142421\tvalidation_1-logloss:0.306679\n",
      "[41]\tvalidation_0-error:0.132532\tvalidation_0-logloss:0.289906\tvalidation_1-error:0.142421\tvalidation_1-logloss:0.30659\n",
      "[42]\tvalidation_0-error:0.131692\tvalidation_0-logloss:0.288469\tvalidation_1-error:0.141758\tvalidation_1-logloss:0.305474\n",
      "[43]\tvalidation_0-error:0.131338\tvalidation_0-logloss:0.287993\tvalidation_1-error:0.141626\tvalidation_1-logloss:0.305068\n",
      "[44]\tvalidation_0-error:0.131117\tvalidation_0-logloss:0.287687\tvalidation_1-error:0.142024\tvalidation_1-logloss:0.304822\n",
      "[45]\tvalidation_0-error:0.130984\tvalidation_0-logloss:0.287108\tvalidation_1-error:0.141361\tvalidation_1-logloss:0.304084\n",
      "[46]\tvalidation_0-error:0.130808\tvalidation_0-logloss:0.286535\tvalidation_1-error:0.141095\tvalidation_1-logloss:0.30387\n",
      "[47]\tvalidation_0-error:0.130763\tvalidation_0-logloss:0.286296\tvalidation_1-error:0.14083\tvalidation_1-logloss:0.303473\n",
      "[48]\tvalidation_0-error:0.130675\tvalidation_0-logloss:0.285975\tvalidation_1-error:0.141228\tvalidation_1-logloss:0.303369\n",
      "[49]\tvalidation_0-error:0.130587\tvalidation_0-logloss:0.285771\tvalidation_1-error:0.141228\tvalidation_1-logloss:0.303502\n",
      "[50]\tvalidation_0-error:0.130454\tvalidation_0-logloss:0.285624\tvalidation_1-error:0.141095\tvalidation_1-logloss:0.303357\n",
      "[51]\tvalidation_0-error:0.129349\tvalidation_0-logloss:0.285349\tvalidation_1-error:0.141493\tvalidation_1-logloss:0.303466\n",
      "[52]\tvalidation_0-error:0.129791\tvalidation_0-logloss:0.284971\tvalidation_1-error:0.141361\tvalidation_1-logloss:0.303142\n",
      "[53]\tvalidation_0-error:0.129791\tvalidation_0-logloss:0.284833\tvalidation_1-error:0.141493\tvalidation_1-logloss:0.302968\n",
      "[54]\tvalidation_0-error:0.129526\tvalidation_0-logloss:0.284582\tvalidation_1-error:0.141361\tvalidation_1-logloss:0.302657\n",
      "[55]\tvalidation_0-error:0.129305\tvalidation_0-logloss:0.284303\tvalidation_1-error:0.142024\tvalidation_1-logloss:0.302631\n",
      "[56]\tvalidation_0-error:0.12957\tvalidation_0-logloss:0.284163\tvalidation_1-error:0.142156\tvalidation_1-logloss:0.302525\n",
      "[57]\tvalidation_0-error:0.129526\tvalidation_0-logloss:0.284001\tvalidation_1-error:0.142156\tvalidation_1-logloss:0.302423\n",
      "[58]\tvalidation_0-error:0.129437\tvalidation_0-logloss:0.283888\tvalidation_1-error:0.142156\tvalidation_1-logloss:0.302345\n",
      "[59]\tvalidation_0-error:0.129172\tvalidation_0-logloss:0.283748\tvalidation_1-error:0.142156\tvalidation_1-logloss:0.302297\n",
      "[60]\tvalidation_0-error:0.128995\tvalidation_0-logloss:0.283612\tvalidation_1-error:0.142156\tvalidation_1-logloss:0.302228\n",
      "[61]\tvalidation_0-error:0.129039\tvalidation_0-logloss:0.283344\tvalidation_1-error:0.142289\tvalidation_1-logloss:0.301924\n",
      "[62]\tvalidation_0-error:0.128597\tvalidation_0-logloss:0.282681\tvalidation_1-error:0.141758\tvalidation_1-logloss:0.301463\n",
      "[63]\tvalidation_0-error:0.128288\tvalidation_0-logloss:0.281946\tvalidation_1-error:0.141758\tvalidation_1-logloss:0.300747\n",
      "[64]\tvalidation_0-error:0.128199\tvalidation_0-logloss:0.281523\tvalidation_1-error:0.1403\tvalidation_1-logloss:0.300271\n",
      "[65]\tvalidation_0-error:0.128023\tvalidation_0-logloss:0.281072\tvalidation_1-error:0.139106\tvalidation_1-logloss:0.299763\n",
      "[66]\tvalidation_0-error:0.127757\tvalidation_0-logloss:0.280837\tvalidation_1-error:0.139239\tvalidation_1-logloss:0.299791\n"
     ]
    },
    {
     "name": "stdout",
     "output_type": "stream",
     "text": [
      "[67]\tvalidation_0-error:0.127448\tvalidation_0-logloss:0.280641\tvalidation_1-error:0.139504\tvalidation_1-logloss:0.29981\n",
      "[68]\tvalidation_0-error:0.127404\tvalidation_0-logloss:0.280495\tvalidation_1-error:0.139239\tvalidation_1-logloss:0.299949\n",
      "[69]\tvalidation_0-error:0.127315\tvalidation_0-logloss:0.280352\tvalidation_1-error:0.138841\tvalidation_1-logloss:0.299694\n",
      "[70]\tvalidation_0-error:0.126785\tvalidation_0-logloss:0.280181\tvalidation_1-error:0.138443\tvalidation_1-logloss:0.299804\n",
      "[71]\tvalidation_0-error:0.126785\tvalidation_0-logloss:0.280106\tvalidation_1-error:0.138576\tvalidation_1-logloss:0.299831\n",
      "[72]\tvalidation_0-error:0.126608\tvalidation_0-logloss:0.279944\tvalidation_1-error:0.139106\tvalidation_1-logloss:0.300057\n",
      "[73]\tvalidation_0-error:0.126829\tvalidation_0-logloss:0.279685\tvalidation_1-error:0.139106\tvalidation_1-logloss:0.299987\n",
      "[74]\tvalidation_0-error:0.126829\tvalidation_0-logloss:0.279601\tvalidation_1-error:0.139106\tvalidation_1-logloss:0.299927\n",
      "[75]\tvalidation_0-error:0.126741\tvalidation_0-logloss:0.279299\tvalidation_1-error:0.138841\tvalidation_1-logloss:0.29937\n",
      "[76]\tvalidation_0-error:0.126741\tvalidation_0-logloss:0.278935\tvalidation_1-error:0.138974\tvalidation_1-logloss:0.29903\n",
      "[77]\tvalidation_0-error:0.12652\tvalidation_0-logloss:0.278645\tvalidation_1-error:0.138841\tvalidation_1-logloss:0.298809\n",
      "[78]\tvalidation_0-error:0.12652\tvalidation_0-logloss:0.278401\tvalidation_1-error:0.139239\tvalidation_1-logloss:0.298715\n",
      "[79]\tvalidation_0-error:0.126387\tvalidation_0-logloss:0.278264\tvalidation_1-error:0.139239\tvalidation_1-logloss:0.298737\n",
      "[80]\tvalidation_0-error:0.126431\tvalidation_0-logloss:0.278068\tvalidation_1-error:0.139371\tvalidation_1-logloss:0.298817\n",
      "[81]\tvalidation_0-error:0.126696\tvalidation_0-logloss:0.277777\tvalidation_1-error:0.139239\tvalidation_1-logloss:0.298709\n",
      "[82]\tvalidation_0-error:0.126696\tvalidation_0-logloss:0.277712\tvalidation_1-error:0.139239\tvalidation_1-logloss:0.298683\n",
      "[83]\tvalidation_0-error:0.126652\tvalidation_0-logloss:0.277534\tvalidation_1-error:0.139239\tvalidation_1-logloss:0.298648\n",
      "[84]\tvalidation_0-error:0.126343\tvalidation_0-logloss:0.277474\tvalidation_1-error:0.139106\tvalidation_1-logloss:0.298567\n",
      "[85]\tvalidation_0-error:0.126078\tvalidation_0-logloss:0.277283\tvalidation_1-error:0.138841\tvalidation_1-logloss:0.298668\n",
      "[86]\tvalidation_0-error:0.126078\tvalidation_0-logloss:0.276973\tvalidation_1-error:0.138841\tvalidation_1-logloss:0.298446\n",
      "[87]\tvalidation_0-error:0.12568\tvalidation_0-logloss:0.275914\tvalidation_1-error:0.138311\tvalidation_1-logloss:0.297112\n",
      "[88]\tvalidation_0-error:0.125105\tvalidation_0-logloss:0.275659\tvalidation_1-error:0.13778\tvalidation_1-logloss:0.297038\n",
      "[89]\tvalidation_0-error:0.125282\tvalidation_0-logloss:0.275567\tvalidation_1-error:0.137913\tvalidation_1-logloss:0.296979\n",
      "[90]\tvalidation_0-error:0.125149\tvalidation_0-logloss:0.275306\tvalidation_1-error:0.137515\tvalidation_1-logloss:0.296586\n",
      "[91]\tvalidation_0-error:0.124972\tvalidation_0-logloss:0.275224\tvalidation_1-error:0.13725\tvalidation_1-logloss:0.296614\n",
      "[92]\tvalidation_0-error:0.12484\tvalidation_0-logloss:0.275086\tvalidation_1-error:0.137382\tvalidation_1-logloss:0.296636\n",
      "[93]\tvalidation_0-error:0.125326\tvalidation_0-logloss:0.274934\tvalidation_1-error:0.137515\tvalidation_1-logloss:0.296614\n",
      "[94]\tvalidation_0-error:0.125105\tvalidation_0-logloss:0.274626\tvalidation_1-error:0.13778\tvalidation_1-logloss:0.296552\n",
      "[95]\tvalidation_0-error:0.124884\tvalidation_0-logloss:0.274439\tvalidation_1-error:0.137515\tvalidation_1-logloss:0.29665\n",
      "[96]\tvalidation_0-error:0.124884\tvalidation_0-logloss:0.274285\tvalidation_1-error:0.137382\tvalidation_1-logloss:0.296538\n",
      "[97]\tvalidation_0-error:0.125149\tvalidation_0-logloss:0.274065\tvalidation_1-error:0.137117\tvalidation_1-logloss:0.296302\n",
      "[98]\tvalidation_0-error:0.125282\tvalidation_0-logloss:0.273986\tvalidation_1-error:0.13725\tvalidation_1-logloss:0.296257\n",
      "[99]\tvalidation_0-error:0.124972\tvalidation_0-logloss:0.273635\tvalidation_1-error:0.137382\tvalidation_1-logloss:0.29611\n"
     ]
    }
   ],
   "source": [
    "eval_set = [(x_train,y_t1), (x_test, y_t2)]\n",
    "xgb1 = XGBClassifier(**params).fit(x_train,y_t1,\n",
    "                                   early_stopping_rounds=15, \n",
    "                                   eval_metric=[\"error\", \"logloss\"], \n",
    "                                   eval_set=eval_set,\n",
    "                                   verbose=True)"
   ]
  },
  {
   "cell_type": "markdown",
   "metadata": {},
   "source": [
    "**n_estimators — the number of runs XGBoost will try to learn**\n",
    "\n",
    "**learning_rate — learning speed**\n",
    "\n",
    "**early_stopping_rounds — overfitting prevention, stop early if no improvement in learning**"
   ]
  },
  {
   "cell_type": "code",
   "execution_count": 72,
   "metadata": {},
   "outputs": [
    {
     "name": "stderr",
     "output_type": "stream",
     "text": [
      "C:\\ProgramData\\Anaconda3\\lib\\site-packages\\sklearn\\preprocessing\\label.py:151: DeprecationWarning: The truth value of an empty array is ambiguous. Returning False, but in future this will result in an error. Use `array.size > 0` to check that an array is not empty.\n",
      "  if diff:\n"
     ]
    }
   ],
   "source": [
    "y_pred1=xgb1.predict(x_test)"
   ]
  },
  {
   "cell_type": "code",
   "execution_count": 74,
   "metadata": {},
   "outputs": [
    {
     "data": {
      "text/plain": [
       "0.8626176899615435"
      ]
     },
     "execution_count": 74,
     "metadata": {},
     "output_type": "execute_result"
    }
   ],
   "source": [
    "accuracy_score(y_t2, y_pred1)"
   ]
  },
  {
   "cell_type": "markdown",
   "metadata": {},
   "source": [
    "## Ploting Classifying errors and log loss with respect to each iteration"
   ]
  },
  {
   "cell_type": "code",
   "execution_count": 80,
   "metadata": {},
   "outputs": [
    {
     "data": {
      "image/png": "[encoded data removed]",
      "text/plain": [
       "<Figure size 432x288 with 1 Axes>"
      ]
     },
     "metadata": {
      "needs_background": "light"
     },
     "output_type": "display_data"
    },
    {
     "data": {
      "image/png": "[encoded data removed]",
      "text/plain": [
       "<Figure size 432x288 with 1 Axes>"
      ]
     },
     "metadata": {
      "needs_background": "light"
     },
     "output_type": "display_data"
    }
   ],
   "source": [
    "# retrieve performance metrics\n",
    "results = xgb1.evals_result()\n",
    "epochs = len(results['validation_0']['error'])\n",
    "x = range(0, epochs)\n",
    "# plot log loss\n",
    "fig, ax = plt.subplots()\n",
    "ax.plot(x, results['validation_0']['logloss'], label='Train')\n",
    "ax.plot(x, results['validation_1']['logloss'], label='Test')\n",
    "ax.legend()\n",
    "plt.ylabel('Log Loss')\n",
    "plt.xlabel('Epochs')\n",
    "plt.title('XGBoost Log Loss')\n",
    "plt.show()\n",
    "# plot classification error\n",
    "fig, ax = plt.subplots()\n",
    "ax.plot(x, results['validation_0']['error'], label='Train')\n",
    "ax.plot(x, results['validation_1']['error'], label='Test')\n",
    "ax.legend()\n",
    "plt.ylabel('Classification Error')\n",
    "plt.xlabel('Epochs')\n",
    "plt.title('XGBoost Classification Error')\n",
    "plt.show()"
   ]
  },
  {
   "cell_type": "code",
   "execution_count": null,
   "metadata": {},
   "outputs": [],
   "source": []
  },
  {
   "cell_type": "markdown",
   "metadata": {},
   "source": [
    "### model no. 3"
   ]
  },
  {
   "cell_type": "code",
   "execution_count": 81,
   "metadata": {},
   "outputs": [],
   "source": [
    "params = {\n",
    "    'objective': 'binary:logistic',\n",
    "    'max_depth': 20,\n",
    "    'learning_rate': .01,\n",
    "    'silent': True,    # would be boolean in sklearn\n",
    "    'n_estimators': 200\n",
    "}"
   ]
  },
  {
   "cell_type": "code",
   "execution_count": 82,
   "metadata": {},
   "outputs": [
    {
     "name": "stdout",
     "output_type": "stream",
     "text": [
      "[0]\tvalidation_0-error:0.097343\tvalidation_0-logloss:0.686355\tvalidation_1-error:0.169871\tvalidation_1-logloss:0.687179\n",
      "Multiple eval metrics have been passed: 'validation_1-logloss' will be used for early stopping.\n",
      "\n",
      "Will train until validation_1-logloss hasn't improved in 15 rounds.\n",
      "[1]\tvalidation_0-error:0.096326\tvalidation_0-logloss:0.679757\tvalidation_1-error:0.166689\tvalidation_1-logloss:0.681326\n",
      "[2]\tvalidation_0-error:0.096105\tvalidation_0-logloss:0.673171\tvalidation_1-error:0.163506\tvalidation_1-logloss:0.675565\n",
      "[3]\tvalidation_0-error:0.096194\tvalidation_0-logloss:0.666845\tvalidation_1-error:0.163506\tvalidation_1-logloss:0.669935\n",
      "[4]\tvalidation_0-error:0.094868\tvalidation_0-logloss:0.660509\tvalidation_1-error:0.162445\tvalidation_1-logloss:0.664406\n",
      "[5]\tvalidation_0-error:0.094779\tvalidation_0-logloss:0.654379\tvalidation_1-error:0.160854\tvalidation_1-logloss:0.658993\n",
      "[6]\tvalidation_0-error:0.095221\tvalidation_0-logloss:0.648365\tvalidation_1-error:0.160854\tvalidation_1-logloss:0.653685\n",
      "[7]\tvalidation_0-error:0.094823\tvalidation_0-logloss:0.642483\tvalidation_1-error:0.160456\tvalidation_1-logloss:0.648459\n",
      "[8]\tvalidation_0-error:0.09447\tvalidation_0-logloss:0.636645\tvalidation_1-error:0.159926\tvalidation_1-logloss:0.643366\n",
      "[9]\tvalidation_0-error:0.094381\tvalidation_0-logloss:0.630874\tvalidation_1-error:0.160456\tvalidation_1-logloss:0.638356\n",
      "[10]\tvalidation_0-error:0.094028\tvalidation_0-logloss:0.625216\tvalidation_1-error:0.160721\tvalidation_1-logloss:0.633429\n",
      "[11]\tvalidation_0-error:0.092525\tvalidation_0-logloss:0.619745\tvalidation_1-error:0.161252\tvalidation_1-logloss:0.628619\n",
      "[12]\tvalidation_0-error:0.092215\tvalidation_0-logloss:0.614301\tvalidation_1-error:0.160058\tvalidation_1-logloss:0.623894\n",
      "[13]\tvalidation_0-error:0.091641\tvalidation_0-logloss:0.608937\tvalidation_1-error:0.158865\tvalidation_1-logloss:0.619232\n",
      "[14]\tvalidation_0-error:0.091419\tvalidation_0-logloss:0.603662\tvalidation_1-error:0.158732\tvalidation_1-logloss:0.614665\n",
      "[15]\tvalidation_0-error:0.091419\tvalidation_0-logloss:0.598548\tvalidation_1-error:0.158202\tvalidation_1-logloss:0.610204\n",
      "[16]\tvalidation_0-error:0.091066\tvalidation_0-logloss:0.593406\tvalidation_1-error:0.157937\tvalidation_1-logloss:0.605794\n",
      "[17]\tvalidation_0-error:0.091375\tvalidation_0-logloss:0.588485\tvalidation_1-error:0.158069\tvalidation_1-logloss:0.601469\n",
      "[18]\tvalidation_0-error:0.091066\tvalidation_0-logloss:0.583561\tvalidation_1-error:0.158334\tvalidation_1-logloss:0.597217\n",
      "[19]\tvalidation_0-error:0.090977\tvalidation_0-logloss:0.57874\tvalidation_1-error:0.157937\tvalidation_1-logloss:0.593069\n",
      "[20]\tvalidation_0-error:0.091198\tvalidation_0-logloss:0.573949\tvalidation_1-error:0.157804\tvalidation_1-logloss:0.588981\n",
      "[21]\tvalidation_0-error:0.09058\tvalidation_0-logloss:0.569217\tvalidation_1-error:0.156478\tvalidation_1-logloss:0.584963\n",
      "[22]\tvalidation_0-error:0.090535\tvalidation_0-logloss:0.564619\tvalidation_1-error:0.156345\tvalidation_1-logloss:0.581025\n",
      "[23]\tvalidation_0-error:0.090093\tvalidation_0-logloss:0.560012\tvalidation_1-error:0.156611\tvalidation_1-logloss:0.577144\n",
      "[24]\tvalidation_0-error:0.089916\tvalidation_0-logloss:0.555565\tvalidation_1-error:0.156611\tvalidation_1-logloss:0.573332\n",
      "[25]\tvalidation_0-error:0.089828\tvalidation_0-logloss:0.551117\tvalidation_1-error:0.157008\tvalidation_1-logloss:0.56957\n",
      "[26]\tvalidation_0-error:0.089032\tvalidation_0-logloss:0.546772\tvalidation_1-error:0.157141\tvalidation_1-logloss:0.565881\n",
      "[27]\tvalidation_0-error:0.08943\tvalidation_0-logloss:0.542502\tvalidation_1-error:0.156478\tvalidation_1-logloss:0.562253\n",
      "[28]\tvalidation_0-error:0.089563\tvalidation_0-logloss:0.538303\tvalidation_1-error:0.156478\tvalidation_1-logloss:0.558673\n",
      "[29]\tvalidation_0-error:0.089386\tvalidation_0-logloss:0.534162\tvalidation_1-error:0.156743\tvalidation_1-logloss:0.555146\n",
      "[30]\tvalidation_0-error:0.08943\tvalidation_0-logloss:0.530095\tvalidation_1-error:0.157406\tvalidation_1-logloss:0.551739\n",
      "[31]\tvalidation_0-error:0.088811\tvalidation_0-logloss:0.526024\tvalidation_1-error:0.157937\tvalidation_1-logloss:0.548331\n",
      "[32]\tvalidation_0-error:0.088723\tvalidation_0-logloss:0.522039\tvalidation_1-error:0.157141\tvalidation_1-logloss:0.544991\n",
      "[33]\tvalidation_0-error:0.088148\tvalidation_0-logloss:0.518108\tvalidation_1-error:0.156743\tvalidation_1-logloss:0.541701\n",
      "[34]\tvalidation_0-error:0.088325\tvalidation_0-logloss:0.514276\tvalidation_1-error:0.156611\tvalidation_1-logloss:0.538486\n",
      "[35]\tvalidation_0-error:0.087839\tvalidation_0-logloss:0.510448\tvalidation_1-error:0.157141\tvalidation_1-logloss:0.535251\n",
      "[36]\tvalidation_0-error:0.087662\tvalidation_0-logloss:0.506704\tvalidation_1-error:0.156478\tvalidation_1-logloss:0.532149\n",
      "[37]\tvalidation_0-error:0.087971\tvalidation_0-logloss:0.503037\tvalidation_1-error:0.156876\tvalidation_1-logloss:0.529058\n",
      "[38]\tvalidation_0-error:0.087839\tvalidation_0-logloss:0.499408\tvalidation_1-error:0.156478\tvalidation_1-logloss:0.526001\n",
      "[39]\tvalidation_0-error:0.087795\tvalidation_0-logloss:0.495859\tvalidation_1-error:0.156478\tvalidation_1-logloss:0.523046\n",
      "[40]\tvalidation_0-error:0.087971\tvalidation_0-logloss:0.492313\tvalidation_1-error:0.156743\tvalidation_1-logloss:0.520098\n",
      "[41]\tvalidation_0-error:0.087795\tvalidation_0-logloss:0.488865\tvalidation_1-error:0.157141\tvalidation_1-logloss:0.517225\n",
      "[42]\tvalidation_0-error:0.087662\tvalidation_0-logloss:0.485371\tvalidation_1-error:0.156478\tvalidation_1-logloss:0.514408\n",
      "[43]\tvalidation_0-error:0.087706\tvalidation_0-logloss:0.482006\tvalidation_1-error:0.157141\tvalidation_1-logloss:0.511583\n",
      "[44]\tvalidation_0-error:0.087706\tvalidation_0-logloss:0.478642\tvalidation_1-error:0.157008\tvalidation_1-logloss:0.508842\n",
      "[45]\tvalidation_0-error:0.087308\tvalidation_0-logloss:0.475258\tvalidation_1-error:0.156876\tvalidation_1-logloss:0.506166\n",
      "[46]\tvalidation_0-error:0.087176\tvalidation_0-logloss:0.472052\tvalidation_1-error:0.156743\tvalidation_1-logloss:0.503498\n",
      "[47]\tvalidation_0-error:0.087087\tvalidation_0-logloss:0.468829\tvalidation_1-error:0.156743\tvalidation_1-logloss:0.500895\n",
      "[48]\tvalidation_0-error:0.086645\tvalidation_0-logloss:0.465639\tvalidation_1-error:0.156876\tvalidation_1-logloss:0.498326\n",
      "[49]\tvalidation_0-error:0.08691\tvalidation_0-logloss:0.462533\tvalidation_1-error:0.155947\tvalidation_1-logloss:0.495765\n",
      "[50]\tvalidation_0-error:0.086689\tvalidation_0-logloss:0.459338\tvalidation_1-error:0.156345\tvalidation_1-logloss:0.493285\n",
      "[51]\tvalidation_0-error:0.085673\tvalidation_0-logloss:0.456323\tvalidation_1-error:0.154887\tvalidation_1-logloss:0.490796\n",
      "[52]\tvalidation_0-error:0.085231\tvalidation_0-logloss:0.453279\tvalidation_1-error:0.15555\tvalidation_1-logloss:0.488399\n",
      "[53]\tvalidation_0-error:0.084833\tvalidation_0-logloss:0.450289\tvalidation_1-error:0.154887\tvalidation_1-logloss:0.486023\n",
      "[54]\tvalidation_0-error:0.084567\tvalidation_0-logloss:0.447314\tvalidation_1-error:0.153958\tvalidation_1-logloss:0.483697\n",
      "[55]\tvalidation_0-error:0.084346\tvalidation_0-logloss:0.444367\tvalidation_1-error:0.153826\tvalidation_1-logloss:0.481393\n",
      "[56]\tvalidation_0-error:0.084037\tvalidation_0-logloss:0.441425\tvalidation_1-error:0.154091\tvalidation_1-logloss:0.47916\n",
      "[57]\tvalidation_0-error:0.083639\tvalidation_0-logloss:0.438576\tvalidation_1-error:0.153428\tvalidation_1-logloss:0.476909\n",
      "[58]\tvalidation_0-error:0.083772\tvalidation_0-logloss:0.435775\tvalidation_1-error:0.153428\tvalidation_1-logloss:0.474686\n",
      "[59]\tvalidation_0-error:0.083418\tvalidation_0-logloss:0.433051\tvalidation_1-error:0.15303\tvalidation_1-logloss:0.472513\n",
      "[60]\tvalidation_0-error:0.083374\tvalidation_0-logloss:0.430233\tvalidation_1-error:0.154091\tvalidation_1-logloss:0.470416\n",
      "[61]\tvalidation_0-error:0.083064\tvalidation_0-logloss:0.427549\tvalidation_1-error:0.153295\tvalidation_1-logloss:0.468314\n",
      "[62]\tvalidation_0-error:0.083153\tvalidation_0-logloss:0.424903\tvalidation_1-error:0.153826\tvalidation_1-logloss:0.466229\n",
      "[63]\tvalidation_0-error:0.082446\tvalidation_0-logloss:0.422195\tvalidation_1-error:0.152632\tvalidation_1-logloss:0.464226\n",
      "[64]\tvalidation_0-error:0.082048\tvalidation_0-logloss:0.419568\tvalidation_1-error:0.153561\tvalidation_1-logloss:0.462258\n",
      "[65]\tvalidation_0-error:0.081871\tvalidation_0-logloss:0.416995\tvalidation_1-error:0.153163\tvalidation_1-logloss:0.46024\n",
      "[66]\tvalidation_0-error:0.08165\tvalidation_0-logloss:0.414444\tvalidation_1-error:0.153958\tvalidation_1-logloss:0.458325\n"
     ]
    },
    {
     "name": "stdout",
     "output_type": "stream",
     "text": [
      "[67]\tvalidation_0-error:0.081517\tvalidation_0-logloss:0.411938\tvalidation_1-error:0.153958\tvalidation_1-logloss:0.456401\n",
      "[68]\tvalidation_0-error:0.080942\tvalidation_0-logloss:0.409379\tvalidation_1-error:0.153693\tvalidation_1-logloss:0.45451\n",
      "[69]\tvalidation_0-error:0.080766\tvalidation_0-logloss:0.406858\tvalidation_1-error:0.153826\tvalidation_1-logloss:0.452677\n",
      "[70]\tvalidation_0-error:0.080235\tvalidation_0-logloss:0.404427\tvalidation_1-error:0.153561\tvalidation_1-logloss:0.45082\n",
      "[71]\tvalidation_0-error:0.079616\tvalidation_0-logloss:0.401994\tvalidation_1-error:0.153163\tvalidation_1-logloss:0.449032\n",
      "[72]\tvalidation_0-error:0.079395\tvalidation_0-logloss:0.399606\tvalidation_1-error:0.152897\tvalidation_1-logloss:0.447242\n",
      "[73]\tvalidation_0-error:0.078688\tvalidation_0-logloss:0.397211\tvalidation_1-error:0.152765\tvalidation_1-logloss:0.445493\n",
      "[74]\tvalidation_0-error:0.078688\tvalidation_0-logloss:0.394902\tvalidation_1-error:0.153295\tvalidation_1-logloss:0.443762\n",
      "[75]\tvalidation_0-error:0.078644\tvalidation_0-logloss:0.39256\tvalidation_1-error:0.15303\tvalidation_1-logloss:0.442105\n",
      "[76]\tvalidation_0-error:0.078511\tvalidation_0-logloss:0.390284\tvalidation_1-error:0.153295\tvalidation_1-logloss:0.44043\n",
      "[77]\tvalidation_0-error:0.078113\tvalidation_0-logloss:0.388004\tvalidation_1-error:0.152897\tvalidation_1-logloss:0.438801\n",
      "[78]\tvalidation_0-error:0.078202\tvalidation_0-logloss:0.385768\tvalidation_1-error:0.15303\tvalidation_1-logloss:0.437132\n",
      "[79]\tvalidation_0-error:0.078069\tvalidation_0-logloss:0.383549\tvalidation_1-error:0.152897\tvalidation_1-logloss:0.435549\n",
      "[80]\tvalidation_0-error:0.077848\tvalidation_0-logloss:0.381348\tvalidation_1-error:0.153163\tvalidation_1-logloss:0.433935\n",
      "[81]\tvalidation_0-error:0.077627\tvalidation_0-logloss:0.379166\tvalidation_1-error:0.152897\tvalidation_1-logloss:0.432376\n",
      "[82]\tvalidation_0-error:0.077583\tvalidation_0-logloss:0.377042\tvalidation_1-error:0.152632\tvalidation_1-logloss:0.430809\n",
      "[83]\tvalidation_0-error:0.077229\tvalidation_0-logloss:0.374891\tvalidation_1-error:0.15303\tvalidation_1-logloss:0.429279\n",
      "[84]\tvalidation_0-error:0.076831\tvalidation_0-logloss:0.372761\tvalidation_1-error:0.153428\tvalidation_1-logloss:0.427812\n",
      "[85]\tvalidation_0-error:0.07692\tvalidation_0-logloss:0.370732\tvalidation_1-error:0.15303\tvalidation_1-logloss:0.426287\n",
      "[86]\tvalidation_0-error:0.076743\tvalidation_0-logloss:0.368731\tvalidation_1-error:0.153163\tvalidation_1-logloss:0.424768\n",
      "[87]\tvalidation_0-error:0.076566\tvalidation_0-logloss:0.3667\tvalidation_1-error:0.152632\tvalidation_1-logloss:0.423274\n",
      "[88]\tvalidation_0-error:0.076345\tvalidation_0-logloss:0.364731\tvalidation_1-error:0.152234\tvalidation_1-logloss:0.421823\n",
      "[89]\tvalidation_0-error:0.075947\tvalidation_0-logloss:0.362773\tvalidation_1-error:0.1525\tvalidation_1-logloss:0.420375\n",
      "[90]\tvalidation_0-error:0.076168\tvalidation_0-logloss:0.360834\tvalidation_1-error:0.15303\tvalidation_1-logloss:0.418962\n",
      "[91]\tvalidation_0-error:0.076036\tvalidation_0-logloss:0.358904\tvalidation_1-error:0.152897\tvalidation_1-logloss:0.417588\n",
      "[92]\tvalidation_0-error:0.075947\tvalidation_0-logloss:0.357016\tvalidation_1-error:0.15303\tvalidation_1-logloss:0.416195\n",
      "[93]\tvalidation_0-error:0.075947\tvalidation_0-logloss:0.355172\tvalidation_1-error:0.152897\tvalidation_1-logloss:0.414844\n",
      "[94]\tvalidation_0-error:0.075815\tvalidation_0-logloss:0.353327\tvalidation_1-error:0.153295\tvalidation_1-logloss:0.413526\n",
      "[95]\tvalidation_0-error:0.075417\tvalidation_0-logloss:0.351514\tvalidation_1-error:0.152632\tvalidation_1-logloss:0.412229\n",
      "[96]\tvalidation_0-error:0.074886\tvalidation_0-logloss:0.349766\tvalidation_1-error:0.153295\tvalidation_1-logloss:0.410934\n",
      "[97]\tvalidation_0-error:0.074709\tvalidation_0-logloss:0.347974\tvalidation_1-error:0.153428\tvalidation_1-logloss:0.409678\n",
      "[98]\tvalidation_0-error:0.074444\tvalidation_0-logloss:0.346212\tvalidation_1-error:0.153561\tvalidation_1-logloss:0.408419\n",
      "[99]\tvalidation_0-error:0.07409\tvalidation_0-logloss:0.344435\tvalidation_1-error:0.153295\tvalidation_1-logloss:0.407222\n",
      "[100]\tvalidation_0-error:0.073648\tvalidation_0-logloss:0.34269\tvalidation_1-error:0.15303\tvalidation_1-logloss:0.406036\n",
      "[101]\tvalidation_0-error:0.073383\tvalidation_0-logloss:0.34097\tvalidation_1-error:0.153428\tvalidation_1-logloss:0.404849\n",
      "[102]\tvalidation_0-error:0.073029\tvalidation_0-logloss:0.33924\tvalidation_1-error:0.15303\tvalidation_1-logloss:0.403714\n",
      "[103]\tvalidation_0-error:0.073162\tvalidation_0-logloss:0.337551\tvalidation_1-error:0.152765\tvalidation_1-logloss:0.40258\n",
      "[104]\tvalidation_0-error:0.073118\tvalidation_0-logloss:0.335855\tvalidation_1-error:0.152234\tvalidation_1-logloss:0.401439\n",
      "[105]\tvalidation_0-error:0.072897\tvalidation_0-logloss:0.334225\tvalidation_1-error:0.152234\tvalidation_1-logloss:0.400341\n",
      "[106]\tvalidation_0-error:0.073029\tvalidation_0-logloss:0.33259\tvalidation_1-error:0.151969\tvalidation_1-logloss:0.399235\n",
      "[107]\tvalidation_0-error:0.073074\tvalidation_0-logloss:0.330976\tvalidation_1-error:0.151837\tvalidation_1-logloss:0.398149\n",
      "[108]\tvalidation_0-error:0.073029\tvalidation_0-logloss:0.329368\tvalidation_1-error:0.152234\tvalidation_1-logloss:0.397106\n",
      "[109]\tvalidation_0-error:0.072853\tvalidation_0-logloss:0.327802\tvalidation_1-error:0.152234\tvalidation_1-logloss:0.396026\n",
      "[110]\tvalidation_0-error:0.072897\tvalidation_0-logloss:0.326256\tvalidation_1-error:0.151439\tvalidation_1-logloss:0.394973\n",
      "[111]\tvalidation_0-error:0.072808\tvalidation_0-logloss:0.324734\tvalidation_1-error:0.151439\tvalidation_1-logloss:0.393918\n",
      "[112]\tvalidation_0-error:0.072808\tvalidation_0-logloss:0.323236\tvalidation_1-error:0.151306\tvalidation_1-logloss:0.392847\n",
      "[113]\tvalidation_0-error:0.072499\tvalidation_0-logloss:0.321733\tvalidation_1-error:0.151306\tvalidation_1-logloss:0.391819\n",
      "[114]\tvalidation_0-error:0.072411\tvalidation_0-logloss:0.320254\tvalidation_1-error:0.150643\tvalidation_1-logloss:0.39081\n",
      "[115]\tvalidation_0-error:0.072234\tvalidation_0-logloss:0.318803\tvalidation_1-error:0.150511\tvalidation_1-logloss:0.389817\n",
      "[116]\tvalidation_0-error:0.072145\tvalidation_0-logloss:0.317326\tvalidation_1-error:0.150245\tvalidation_1-logloss:0.388841\n",
      "[117]\tvalidation_0-error:0.07219\tvalidation_0-logloss:0.315869\tvalidation_1-error:0.150113\tvalidation_1-logloss:0.387872\n",
      "[118]\tvalidation_0-error:0.071747\tvalidation_0-logloss:0.314438\tvalidation_1-error:0.150113\tvalidation_1-logloss:0.386927\n",
      "[119]\tvalidation_0-error:0.071703\tvalidation_0-logloss:0.313074\tvalidation_1-error:0.14998\tvalidation_1-logloss:0.385952\n",
      "[120]\tvalidation_0-error:0.07188\tvalidation_0-logloss:0.31166\tvalidation_1-error:0.14998\tvalidation_1-logloss:0.385029\n",
      "[121]\tvalidation_0-error:0.071703\tvalidation_0-logloss:0.310294\tvalidation_1-error:0.149848\tvalidation_1-logloss:0.384062\n",
      "[122]\tvalidation_0-error:0.071703\tvalidation_0-logloss:0.308907\tvalidation_1-error:0.14998\tvalidation_1-logloss:0.383116\n",
      "[123]\tvalidation_0-error:0.071438\tvalidation_0-logloss:0.307563\tvalidation_1-error:0.150245\tvalidation_1-logloss:0.382203\n",
      "[124]\tvalidation_0-error:0.071438\tvalidation_0-logloss:0.306164\tvalidation_1-error:0.150113\tvalidation_1-logloss:0.381273\n",
      "[125]\tvalidation_0-error:0.071129\tvalidation_0-logloss:0.304841\tvalidation_1-error:0.149848\tvalidation_1-logloss:0.380345\n",
      "[126]\tvalidation_0-error:0.071084\tvalidation_0-logloss:0.30346\tvalidation_1-error:0.149582\tvalidation_1-logloss:0.379498\n",
      "[127]\tvalidation_0-error:0.07104\tvalidation_0-logloss:0.302133\tvalidation_1-error:0.14998\tvalidation_1-logloss:0.378669\n",
      "[128]\tvalidation_0-error:0.070863\tvalidation_0-logloss:0.300834\tvalidation_1-error:0.150113\tvalidation_1-logloss:0.377837\n",
      "[129]\tvalidation_0-error:0.070687\tvalidation_0-logloss:0.299497\tvalidation_1-error:0.150113\tvalidation_1-logloss:0.377025\n",
      "[130]\tvalidation_0-error:0.07051\tvalidation_0-logloss:0.298217\tvalidation_1-error:0.150245\tvalidation_1-logloss:0.376173\n",
      "[131]\tvalidation_0-error:0.070377\tvalidation_0-logloss:0.29694\tvalidation_1-error:0.150378\tvalidation_1-logloss:0.37535\n",
      "[132]\tvalidation_0-error:0.070244\tvalidation_0-logloss:0.295688\tvalidation_1-error:0.150511\tvalidation_1-logloss:0.374561\n",
      "[133]\tvalidation_0-error:0.070112\tvalidation_0-logloss:0.29442\tvalidation_1-error:0.150776\tvalidation_1-logloss:0.373766\n",
      "[134]\tvalidation_0-error:0.070289\tvalidation_0-logloss:0.293185\tvalidation_1-error:0.150511\tvalidation_1-logloss:0.372972\n"
     ]
    },
    {
     "name": "stdout",
     "output_type": "stream",
     "text": [
      "[135]\tvalidation_0-error:0.070112\tvalidation_0-logloss:0.291949\tvalidation_1-error:0.150643\tvalidation_1-logloss:0.372169\n",
      "[136]\tvalidation_0-error:0.069891\tvalidation_0-logloss:0.290769\tvalidation_1-error:0.150908\tvalidation_1-logloss:0.371412\n",
      "[137]\tvalidation_0-error:0.069802\tvalidation_0-logloss:0.289558\tvalidation_1-error:0.151041\tvalidation_1-logloss:0.370642\n",
      "[138]\tvalidation_0-error:0.069802\tvalidation_0-logloss:0.288357\tvalidation_1-error:0.150776\tvalidation_1-logloss:0.369875\n",
      "[139]\tvalidation_0-error:0.069405\tvalidation_0-logloss:0.287116\tvalidation_1-error:0.150643\tvalidation_1-logloss:0.369163\n",
      "[140]\tvalidation_0-error:0.069449\tvalidation_0-logloss:0.285943\tvalidation_1-error:0.150511\tvalidation_1-logloss:0.368416\n",
      "[141]\tvalidation_0-error:0.069139\tvalidation_0-logloss:0.28478\tvalidation_1-error:0.150908\tvalidation_1-logloss:0.367704\n",
      "[142]\tvalidation_0-error:0.069139\tvalidation_0-logloss:0.283636\tvalidation_1-error:0.150245\tvalidation_1-logloss:0.367019\n",
      "[143]\tvalidation_0-error:0.068962\tvalidation_0-logloss:0.282461\tvalidation_1-error:0.14998\tvalidation_1-logloss:0.36631\n",
      "[144]\tvalidation_0-error:0.068741\tvalidation_0-logloss:0.281363\tvalidation_1-error:0.149582\tvalidation_1-logloss:0.365614\n",
      "[145]\tvalidation_0-error:0.068609\tvalidation_0-logloss:0.280247\tvalidation_1-error:0.149715\tvalidation_1-logloss:0.364935\n",
      "[146]\tvalidation_0-error:0.068388\tvalidation_0-logloss:0.279136\tvalidation_1-error:0.149582\tvalidation_1-logloss:0.364263\n",
      "[147]\tvalidation_0-error:0.068299\tvalidation_0-logloss:0.27803\tvalidation_1-error:0.149582\tvalidation_1-logloss:0.363595\n",
      "[148]\tvalidation_0-error:0.068255\tvalidation_0-logloss:0.276924\tvalidation_1-error:0.149715\tvalidation_1-logloss:0.362937\n",
      "[149]\tvalidation_0-error:0.068034\tvalidation_0-logloss:0.275791\tvalidation_1-error:0.149848\tvalidation_1-logloss:0.362307\n",
      "[150]\tvalidation_0-error:0.067857\tvalidation_0-logloss:0.27476\tvalidation_1-error:0.14945\tvalidation_1-logloss:0.361683\n",
      "[151]\tvalidation_0-error:0.067902\tvalidation_0-logloss:0.273692\tvalidation_1-error:0.149317\tvalidation_1-logloss:0.361056\n",
      "[152]\tvalidation_0-error:0.067857\tvalidation_0-logloss:0.272646\tvalidation_1-error:0.149184\tvalidation_1-logloss:0.360431\n",
      "[153]\tvalidation_0-error:0.067636\tvalidation_0-logloss:0.271604\tvalidation_1-error:0.149848\tvalidation_1-logloss:0.359826\n",
      "[154]\tvalidation_0-error:0.067415\tvalidation_0-logloss:0.270557\tvalidation_1-error:0.149582\tvalidation_1-logloss:0.359229\n",
      "[155]\tvalidation_0-error:0.067283\tvalidation_0-logloss:0.269523\tvalidation_1-error:0.150113\tvalidation_1-logloss:0.358652\n",
      "[156]\tvalidation_0-error:0.067194\tvalidation_0-logloss:0.268462\tvalidation_1-error:0.150113\tvalidation_1-logloss:0.358082\n",
      "[157]\tvalidation_0-error:0.067194\tvalidation_0-logloss:0.267463\tvalidation_1-error:0.14998\tvalidation_1-logloss:0.357528\n",
      "[158]\tvalidation_0-error:0.066841\tvalidation_0-logloss:0.266449\tvalidation_1-error:0.149715\tvalidation_1-logloss:0.356966\n",
      "[159]\tvalidation_0-error:0.06662\tvalidation_0-logloss:0.265409\tvalidation_1-error:0.149582\tvalidation_1-logloss:0.356403\n",
      "[160]\tvalidation_0-error:0.06662\tvalidation_0-logloss:0.264398\tvalidation_1-error:0.149582\tvalidation_1-logloss:0.355843\n",
      "[161]\tvalidation_0-error:0.066177\tvalidation_0-logloss:0.263405\tvalidation_1-error:0.14945\tvalidation_1-logloss:0.355305\n",
      "[162]\tvalidation_0-error:0.066222\tvalidation_0-logloss:0.262396\tvalidation_1-error:0.149317\tvalidation_1-logloss:0.354751\n",
      "[163]\tvalidation_0-error:0.066177\tvalidation_0-logloss:0.261415\tvalidation_1-error:0.149184\tvalidation_1-logloss:0.354219\n",
      "[164]\tvalidation_0-error:0.065956\tvalidation_0-logloss:0.260476\tvalidation_1-error:0.148919\tvalidation_1-logloss:0.353691\n",
      "[165]\tvalidation_0-error:0.065824\tvalidation_0-logloss:0.259443\tvalidation_1-error:0.149582\tvalidation_1-logloss:0.35315\n",
      "[166]\tvalidation_0-error:0.065559\tvalidation_0-logloss:0.258439\tvalidation_1-error:0.149052\tvalidation_1-logloss:0.352633\n",
      "[167]\tvalidation_0-error:0.065382\tvalidation_0-logloss:0.257471\tvalidation_1-error:0.148787\tvalidation_1-logloss:0.352112\n",
      "[168]\tvalidation_0-error:0.065426\tvalidation_0-logloss:0.256477\tvalidation_1-error:0.148919\tvalidation_1-logloss:0.351616\n",
      "[169]\tvalidation_0-error:0.065249\tvalidation_0-logloss:0.255491\tvalidation_1-error:0.148919\tvalidation_1-logloss:0.351122\n",
      "[170]\tvalidation_0-error:0.065161\tvalidation_0-logloss:0.254595\tvalidation_1-error:0.149052\tvalidation_1-logloss:0.350628\n",
      "[171]\tvalidation_0-error:0.06463\tvalidation_0-logloss:0.25367\tvalidation_1-error:0.149052\tvalidation_1-logloss:0.350155\n",
      "[172]\tvalidation_0-error:0.064453\tvalidation_0-logloss:0.252753\tvalidation_1-error:0.149317\tvalidation_1-logloss:0.349665\n",
      "[173]\tvalidation_0-error:0.064277\tvalidation_0-logloss:0.251857\tvalidation_1-error:0.148919\tvalidation_1-logloss:0.349206\n",
      "[174]\tvalidation_0-error:0.064321\tvalidation_0-logloss:0.251001\tvalidation_1-error:0.148787\tvalidation_1-logloss:0.348736\n",
      "[175]\tvalidation_0-error:0.064409\tvalidation_0-logloss:0.250113\tvalidation_1-error:0.149184\tvalidation_1-logloss:0.348284\n",
      "[176]\tvalidation_0-error:0.064365\tvalidation_0-logloss:0.249284\tvalidation_1-error:0.149052\tvalidation_1-logloss:0.347844\n",
      "[177]\tvalidation_0-error:0.064056\tvalidation_0-logloss:0.248364\tvalidation_1-error:0.149184\tvalidation_1-logloss:0.34739\n",
      "[178]\tvalidation_0-error:0.064011\tvalidation_0-logloss:0.247547\tvalidation_1-error:0.14945\tvalidation_1-logloss:0.346936\n",
      "[179]\tvalidation_0-error:0.063923\tvalidation_0-logloss:0.24675\tvalidation_1-error:0.149317\tvalidation_1-logloss:0.346484\n",
      "[180]\tvalidation_0-error:0.06379\tvalidation_0-logloss:0.245899\tvalidation_1-error:0.149052\tvalidation_1-logloss:0.346048\n",
      "[181]\tvalidation_0-error:0.063702\tvalidation_0-logloss:0.2451\tvalidation_1-error:0.149184\tvalidation_1-logloss:0.345604\n",
      "[182]\tvalidation_0-error:0.063658\tvalidation_0-logloss:0.244294\tvalidation_1-error:0.149184\tvalidation_1-logloss:0.345178\n",
      "[183]\tvalidation_0-error:0.063658\tvalidation_0-logloss:0.243492\tvalidation_1-error:0.149317\tvalidation_1-logloss:0.344755\n",
      "[184]\tvalidation_0-error:0.063392\tvalidation_0-logloss:0.242691\tvalidation_1-error:0.14945\tvalidation_1-logloss:0.344343\n",
      "[185]\tvalidation_0-error:0.063348\tvalidation_0-logloss:0.241912\tvalidation_1-error:0.149052\tvalidation_1-logloss:0.343955\n",
      "[186]\tvalidation_0-error:0.063348\tvalidation_0-logloss:0.241122\tvalidation_1-error:0.149184\tvalidation_1-logloss:0.343568\n",
      "[187]\tvalidation_0-error:0.063304\tvalidation_0-logloss:0.240365\tvalidation_1-error:0.149184\tvalidation_1-logloss:0.343184\n",
      "[188]\tvalidation_0-error:0.063171\tvalidation_0-logloss:0.239601\tvalidation_1-error:0.149052\tvalidation_1-logloss:0.342796\n",
      "[189]\tvalidation_0-error:0.062906\tvalidation_0-logloss:0.238833\tvalidation_1-error:0.14945\tvalidation_1-logloss:0.342394\n",
      "[190]\tvalidation_0-error:0.062685\tvalidation_0-logloss:0.238084\tvalidation_1-error:0.14945\tvalidation_1-logloss:0.342009\n",
      "[191]\tvalidation_0-error:0.062597\tvalidation_0-logloss:0.237327\tvalidation_1-error:0.14945\tvalidation_1-logloss:0.341639\n",
      "[192]\tvalidation_0-error:0.062552\tvalidation_0-logloss:0.236583\tvalidation_1-error:0.149317\tvalidation_1-logloss:0.341257\n",
      "[193]\tvalidation_0-error:0.062331\tvalidation_0-logloss:0.235845\tvalidation_1-error:0.149052\tvalidation_1-logloss:0.340932\n",
      "[194]\tvalidation_0-error:0.062199\tvalidation_0-logloss:0.235096\tvalidation_1-error:0.149184\tvalidation_1-logloss:0.340572\n",
      "[195]\tvalidation_0-error:0.062022\tvalidation_0-logloss:0.234405\tvalidation_1-error:0.149317\tvalidation_1-logloss:0.340224\n",
      "[196]\tvalidation_0-error:0.061713\tvalidation_0-logloss:0.233672\tvalidation_1-error:0.149052\tvalidation_1-logloss:0.33987\n",
      "[197]\tvalidation_0-error:0.061801\tvalidation_0-logloss:0.232938\tvalidation_1-error:0.149052\tvalidation_1-logloss:0.339558\n",
      "[198]\tvalidation_0-error:0.061668\tvalidation_0-logloss:0.232266\tvalidation_1-error:0.148919\tvalidation_1-logloss:0.339216\n",
      "[199]\tvalidation_0-error:0.061492\tvalidation_0-logloss:0.23152\tvalidation_1-error:0.148919\tvalidation_1-logloss:0.338891\n"
     ]
    }
   ],
   "source": [
    "eval_set = [(x_train,y_t1), (x_test, y_t2)]\n",
    "xgb1 = XGBClassifier(**params).fit(x_train,y_t1,\n",
    "                                   early_stopping_rounds=15, \n",
    "                                   eval_metric=[\"error\", \"logloss\"], \n",
    "                                   eval_set=eval_set,\n",
    "                                   verbose=True)"
   ]
  },
  {
   "cell_type": "code",
   "execution_count": 83,
   "metadata": {},
   "outputs": [
    {
     "data": {
      "image/png": "[encoded data removed]",
      "text/plain": [
       "<Figure size 432x288 with 1 Axes>"
      ]
     },
     "metadata": {
      "needs_background": "light"
     },
     "output_type": "display_data"
    },
    {
     "data": {
      "image/png": "[encoded data removed]",
      "text/plain": [
       "<Figure size 432x288 with 1 Axes>"
      ]
     },
     "metadata": {
      "needs_background": "light"
     },
     "output_type": "display_data"
    }
   ],
   "source": [
    "#plot\n",
    "# retrieve performance metrics\n",
    "results = xgb1.evals_result()\n",
    "epochs = len(results['validation_0']['error'])\n",
    "x = range(0, epochs)\n",
    "# plot log loss\n",
    "fig, ax = plt.subplots()\n",
    "ax.plot(x, results['validation_0']['logloss'], label='Train')\n",
    "ax.plot(x, results['validation_1']['logloss'], label='Test')\n",
    "ax.legend()\n",
    "plt.ylabel('Log Loss')\n",
    "plt.xlabel('Epochs')\n",
    "plt.title('XGBoost Log Loss')\n",
    "plt.show()\n",
    "# plot classification error\n",
    "fig, ax = plt.subplots()\n",
    "ax.plot(x, results['validation_0']['error'], label='Train')\n",
    "ax.plot(x, results['validation_1']['error'], label='Test')\n",
    "ax.legend()\n",
    "plt.ylabel('Classification Error')\n",
    "plt.xlabel('Epochs')\n",
    "plt.title('XGBoost Classification Error')\n",
    "plt.show()"
   ]
  },
  {
   "cell_type": "markdown",
   "metadata": {},
   "source": [
    "###### Observation"
   ]
  },
  {
   "cell_type": "markdown",
   "metadata": {},
   "source": [
    "By adjusting parameter we can improve over accuracy,"
   ]
  },
  {
   "cell_type": "markdown",
   "metadata": {},
   "source": [
    "## The XGBoost way"
   ]
  },
  {
   "cell_type": "code",
   "execution_count": 86,
   "metadata": {},
   "outputs": [],
   "source": [
    "#Import Xgboost\n",
    "import xgboost as xgb"
   ]
  },
  {
   "cell_type": "code",
   "execution_count": 89,
   "metadata": {},
   "outputs": [],
   "source": [
    "dtrain = xgb.DMatrix(x_train, label = y_t1)\n",
    "dtest = xgb.DMatrix(x_test, label = y_t2)"
   ]
  },
  {
   "cell_type": "code",
   "execution_count": 90,
   "metadata": {},
   "outputs": [],
   "source": [
    "#creating watchlist of training\n",
    "# to see out output \n",
    "watchlist = [(dtrain,'train'),(dtest, 'eval')]"
   ]
  },
  {
   "cell_type": "code",
   "execution_count": 92,
   "metadata": {},
   "outputs": [],
   "source": [
    "params = {\n",
    "    'objective': 'binary:logistic',\n",
    "    'max_depth': 2,\n",
    "    'learning_rate': 1.0,\n",
    "    'silent': True,    # would be boolean in sklearn\n",
    "    'booster' : 'gbtree',\n",
    "    'max_depth' : 7,\n",
    "    'eval_metric' : 'auc'\n",
    "}\n",
    "# using bydeafault eta [default=0.3, alias: learning_rate]\n",
    "\n",
    "num_rounds = 100  "
   ]
  },
  {
   "cell_type": "code",
   "execution_count": 94,
   "metadata": {},
   "outputs": [
    {
     "name": "stdout",
     "output_type": "stream",
     "text": [
      "[0]\ttrain-auc:0.906542\teval-auc:0.894344\n",
      "Multiple eval metrics have been passed: 'eval-auc' will be used for early stopping.\n",
      "\n",
      "Will train until eval-auc hasn't improved in 15 rounds.\n",
      "[1]\ttrain-auc:0.921503\teval-auc:0.906081\n",
      "[2]\ttrain-auc:0.926214\teval-auc:0.910136\n",
      "[3]\ttrain-auc:0.931727\teval-auc:0.911489\n",
      "[4]\ttrain-auc:0.935094\teval-auc:0.915321\n",
      "[5]\ttrain-auc:0.93845\teval-auc:0.914611\n",
      "[6]\ttrain-auc:0.941157\teval-auc:0.913968\n",
      "[7]\ttrain-auc:0.943489\teval-auc:0.913971\n",
      "[8]\ttrain-auc:0.944037\teval-auc:0.914271\n",
      "[9]\ttrain-auc:0.944881\teval-auc:0.914254\n",
      "[10]\ttrain-auc:0.946094\teval-auc:0.916483\n",
      "[11]\ttrain-auc:0.947062\teval-auc:0.917142\n",
      "[12]\ttrain-auc:0.94912\teval-auc:0.916566\n",
      "[13]\ttrain-auc:0.950668\teval-auc:0.916304\n",
      "[14]\ttrain-auc:0.95156\teval-auc:0.915887\n",
      "[15]\ttrain-auc:0.952342\teval-auc:0.915621\n",
      "[16]\ttrain-auc:0.95384\teval-auc:0.915208\n",
      "[17]\ttrain-auc:0.955571\teval-auc:0.915091\n",
      "[18]\ttrain-auc:0.957111\teval-auc:0.914597\n",
      "[19]\ttrain-auc:0.958293\teval-auc:0.914076\n",
      "[20]\ttrain-auc:0.959855\teval-auc:0.913472\n",
      "[21]\ttrain-auc:0.961139\teval-auc:0.913255\n",
      "[22]\ttrain-auc:0.961683\teval-auc:0.913271\n",
      "[23]\ttrain-auc:0.962522\teval-auc:0.913181\n",
      "[24]\ttrain-auc:0.962998\teval-auc:0.913222\n",
      "[25]\ttrain-auc:0.964321\teval-auc:0.912369\n",
      "[26]\ttrain-auc:0.965498\teval-auc:0.91245\n",
      "Stopping. Best iteration:\n",
      "[11]\ttrain-auc:0.947062\teval-auc:0.917142\n",
      "\n"
     ]
    }
   ],
   "source": [
    "model_xgb = xgb.train(params, dtrain, num_rounds, evals = watchlist, early_stopping_rounds = 15, verbose_eval = True)"
   ]
  },
  {
   "cell_type": "markdown",
   "metadata": {},
   "source": [
    "The train-auc:0.94706   and Test-auc:0.917142"
   ]
  },
  {
   "cell_type": "code",
   "execution_count": 100,
   "metadata": {},
   "outputs": [],
   "source": [
    "features_contribution = pd.Series(model_xgb.get_fscore()).sort_values(ascending=False)"
   ]
  },
  {
   "cell_type": "code",
   "execution_count": 107,
   "metadata": {},
   "outputs": [
    {
     "data": {
      "image/png": "[encoded data removed]",
      "text/plain": [
       "<Figure size 1440x720 with 1 Axes>"
      ]
     },
     "metadata": {
      "needs_background": "light"
     },
     "output_type": "display_data"
    }
   ],
   "source": [
    "plt.figure(figsize=(20,10))\n",
    "features_contribution[:50].plot(kind='bar', title='Feature Importances')\n",
    "#features_contribution[:50].plot(kind='line')\n",
    "plt.ylabel('Feature Importance Score')\n",
    "plt.show()"
   ]
  },
  {
   "cell_type": "markdown",
   "metadata": {},
   "source": [
    "https://xgboost.readthedocs.io/en/latest/parameter.html"
   ]
  }
 ],
 "metadata": {
  "kernelspec": {
   "display_name": "Python 3",
   "language": "python",
   "name": "python3"
  },
  "language_info": {
   "codemirror_mode": {
    "name": "ipython",
    "version": 3
   },
   "file_extension": ".py",
   "mimetype": "text/x-python",
   "name": "python",
   "nbconvert_exporter": "python",
   "pygments_lexer": "ipython3",
   "version": "3.7.0"
  }
 },
 "nbformat": 4,
 "nbformat_minor": 2
}
